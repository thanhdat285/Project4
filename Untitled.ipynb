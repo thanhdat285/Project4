{
 "cells": [
  {
   "cell_type": "code",
   "execution_count": 1,
   "metadata": {
    "collapsed": true
   },
   "outputs": [],
   "source": [
    "from Tkinter import *\n",
    "import tkFileDialog\n",
    "import ttk\n",
    "import numpy as np\n",
    "import pandas as pd\n",
    "import sys\n",
    "from pgmpy.models import BayesianModel\n",
    "from pgmpy.estimators import BayesianEstimator\n",
    "from pgmpy.inference import VariableElimination\n",
    "import matplotlib.pyplot as plt\n",
    "from openpyxl.drawing.text import TextField"
   ]
  },
  {
   "cell_type": "code",
   "execution_count": 2,
   "metadata": {},
   "outputs": [
    {
     "name": "stdout",
     "output_type": "stream",
     "text": [
      "   TQ  DPQ  C  OU  DI  DFT  RD  DFO\n",
      "0   2    2  4   3  81   59  22   19\n",
      "1   2    1  2   1  27    1  26   10\n",
      "2   0    1  1   2  54   13  41    9\n",
      "3   1    3  3   1  32   32   0    0\n",
      "4   2    4  0   0  59   39  20   15\n",
      "5   1    2  3   1  13    1  12    1\n",
      "6   3    3  2   4  34   27   7    6\n",
      "7   3    1  4   3  50   10  40   11\n",
      "8   3    0  4   4  49   12  37    4\n",
      "9   2    1  4   3  27   20   7    1\n"
     ]
    }
   ],
   "source": [
    "data = pd.read_csv(\"fisrm.csv\")  # \"fisrm.csv\"\n",
    "data_size = len(data)\n",
    "print data"
   ]
  },
  {
   "cell_type": "code",
   "execution_count": 3,
   "metadata": {
    "collapsed": true
   },
   "outputs": [],
   "source": [
    "model = BayesianModel(\n",
    "            [('TQ', 'DFT'), ('DPQ', 'DI'), ('C', 'DI'), ('DI', 'DFT'), ('DI', 'RD'), ('DFT', 'RD'), ('RD', 'DFO'),\n",
    "            ('OU', 'DFO')])"
   ]
  },
  {
   "cell_type": "code",
   "execution_count": 4,
   "metadata": {},
   "outputs": [
    {
     "name": "stdout",
     "output_type": "stream",
     "text": [
      "super:  {'C': [0, 1, 2, 3, 4], 'DPQ': [0, 1, 2, 3, 4], 'DI': [13, 27, 32, 34, 49, 50, 54, 59, 81], 'DFT': [1, 10, 12, 13, 20, 27, 32, 39, 59], 'TQ': [0, 1, 2, 3], 'RD': [0, 7, 12, 20, 22, 26, 37, 40, 41], 'DFO': [0, 1, 4, 6, 9, 10, 11, 15, 19], 'OU': [0, 1, 2, 3, 4]}\n",
      "{'C': [0, 1, 2, 3, 4], 'DPQ': [0, 1, 2, 3, 4], 'DI': [13, 27, 32, 34, 49, 50, 54, 59, 81], 'DFT': [1, 10, 12, 13, 20, 27, 32, 39, 59], 'TQ': [0, 1, 2, 3], 'RD': [0, 7, 12, 20, 22, 26, 37, 40, 41], 'DFO': [0, 1, 4, 6, 9, 10, 11, 15, 19], 'OU': [0, 1, 2, 3, 4]}\n"
     ]
    }
   ],
   "source": [
    "model.fit(data, estimator_type=BayesianEstimator, prior_type=\"BDeu\",\n",
    "                  equivalent_sample_size=10)  # default eq"
   ]
  },
  {
   "cell_type": "code",
   "execution_count": null,
   "metadata": {},
   "outputs": [],
   "source": []
  },
  {
   "cell_type": "code",
   "execution_count": null,
   "metadata": {},
   "outputs": [],
   "source": [
    "print model.get_cpds('C')\n",
    "print model.get_cpds('DPQ')\n",
    "print model.get_cpds('DI')"
   ]
  },
  {
   "cell_type": "code",
   "execution_count": null,
   "metadata": {
    "collapsed": true
   },
   "outputs": [],
   "source": [
    "infer = VariableElimination(model)"
   ]
  },
  {
   "cell_type": "code",
   "execution_count": null,
   "metadata": {},
   "outputs": [],
   "source": [
    "DI = infer.query(['DI'])['DI'].values\n",
    "print DI"
   ]
  },
  {
   "cell_type": "code",
   "execution_count": null,
   "metadata": {},
   "outputs": [],
   "source": [
    "plt.figure()"
   ]
  },
  {
   "cell_type": "code",
   "execution_count": null,
   "metadata": {},
   "outputs": [],
   "source": [
    "plt.subplot(4, 3, 4)\n",
    "plt.plot([1, 2, 3])\n",
    "plt.title(\"defects inserted 1\")\n",
    "# plt.xlabel('number')\n",
    "plt.ylabel('probability')"
   ]
  },
  {
   "cell_type": "code",
   "execution_count": null,
   "metadata": {},
   "outputs": [],
   "source": [
    "plt.subplots_adjust(hspace=0.5)\n",
    "plt.show()"
   ]
  },
  {
   "cell_type": "code",
   "execution_count": null,
   "metadata": {},
   "outputs": [],
   "source": []
  },
  {
   "cell_type": "code",
   "execution_count": null,
   "metadata": {
    "collapsed": true
   },
   "outputs": [],
   "source": []
  }
 ],
 "metadata": {
  "kernelspec": {
   "display_name": "Python 2",
   "language": "python",
   "name": "python2"
  },
  "language_info": {
   "codemirror_mode": {
    "name": "ipython",
    "version": 2
   },
   "file_extension": ".py",
   "mimetype": "text/x-python",
   "name": "python",
   "nbconvert_exporter": "python",
   "pygments_lexer": "ipython2",
   "version": "2.7.12"
  }
 },
 "nbformat": 4,
 "nbformat_minor": 2
}

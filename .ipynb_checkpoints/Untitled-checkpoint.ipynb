{
 "cells": [
  {
   "cell_type": "code",
   "execution_count": 1,
   "metadata": {
    "collapsed": true
   },
   "outputs": [],
   "source": [
    "from Tkinter import *\n",
    "import tkFileDialog\n",
    "import ttk\n",
    "import numpy as np\n",
    "import pandas as pd\n",
    "import sys\n",
    "from pgmpy.models import BayesianModel\n",
    "from pgmpy.estimators import BayesianEstimator\n",
    "from pgmpy.inference import VariableElimination\n",
    "import matplotlib.pyplot as plt\n",
    "from openpyxl.drawing.text import TextField"
   ]
  },
  {
   "cell_type": "code",
   "execution_count": 2,
   "metadata": {},
   "outputs": [
    {
     "name": "stdout",
     "output_type": "stream",
     "text": [
      "   TQ  DPQ  C  OU  DI  DFT  RD  DFO\n",
      "0   2    2  4   3  81   59  22   19\n",
      "1   2    1  2   1  27    1  26   10\n",
      "2   0    1  1   2  54   13  41    9\n",
      "3   1    3  3   1  32   32   0    0\n",
      "4   2    4  0   0  59   39  20   15\n",
      "5   1    2  3   1  13    1  12    1\n",
      "6   3    3  2   4  34   27   7    6\n",
      "7   3    1  4   3  50   10  40   11\n",
      "8   3    0  4   4  49   12  37    4\n",
      "9   2    1  4   3  27   20   7    1\n"
     ]
    }
   ],
   "source": [
    "data = pd.read_csv(\"fisrm.csv\")  # \"fisrm.csv\"\n",
    "data_size = len(data)\n",
    "print data"
   ]
  },
  {
   "cell_type": "code",
   "execution_count": 3,
   "metadata": {
    "collapsed": true
   },
   "outputs": [],
   "source": [
    "model = BayesianModel(\n",
    "            [('TQ', 'DFT'), ('DPQ', 'DI'), ('C', 'DI'), ('DI', 'DFT'), ('DI', 'RD'), ('DFT', 'RD'), ('RD', 'DFO'),\n",
    "            ('OU', 'DFO')])"
   ]
  },
  {
   "cell_type": "code",
   "execution_count": 4,
   "metadata": {},
   "outputs": [
    {
     "name": "stdout",
     "output_type": "stream",
     "text": [
      "[] True\n",
      "var:  ['TQ', 'DPQ', 'C', 'OU', 'DI', 'DFT', 'RD', 'DFO']\n",
      "if\n",
      "state:  {'C': [0, 1, 2, 3, 4], 'DPQ': [0, 1, 2, 3, 4], 'DI': [13, 27, 32, 34, 49, 50, 54, 59, 81], 'DFT': [1, 10, 12, 13, 20, 27, 32, 39, 59], 'TQ': [0, 1, 2, 3], 'RD': [0, 7, 12, 20, 22, 26, 37, 40, 41], 'DFO': [0, 1, 4, 6, 9, 10, 11, 15, 19], 'OU': [0, 1, 2, 3, 4]}\n",
      "super:  {'C': [0, 1, 2, 3, 4], 'DPQ': [0, 1, 2, 3, 4], 'DI': [13, 27, 32, 34, 49, 50, 54, 59, 81], 'DFT': [1, 10, 12, 13, 20, 27, 32, 39, 59], 'TQ': [0, 1, 2, 3], 'RD': [0, 7, 12, 20, 22, 26, 37, 40, 41], 'DFO': [0, 1, 4, 6, 9, 10, 11, 15, 19], 'OU': [0, 1, 2, 3, 4]}\n",
      "<pgmpy.estimators.BayesianEstimator.BayesianEstimator object at 0x000000001E532BE0>\n",
      "node:  C\n",
      "state_names:  [0, 1, 2, 3, 4]\n",
      "parent:  []\n",
      "parent:  []\n",
      "alpha:  2.0 [2.0, 2.0, 2.0, 2.0, 2.0]\n",
      "node:  DPQ\n",
      "state_names:  [0, 1, 2, 3, 4]\n",
      "parent:  []\n",
      "parent:  []\n",
      "alpha:  2.0 [2.0, 2.0, 2.0, 2.0, 2.0]\n",
      "node:  DI\n",
      "state_names:  [13, 27, 32, 34, 49, 50, 54, 59, 81]\n",
      "parent:  ['C', 'DPQ']\n",
      "parent:  ['C', 'DPQ']\n",
      "alpha:  0.0444444444444 [0.044444444444444446, 0.044444444444444446, 0.044444444444444446, 0.044444444444444446, 0.044444444444444446, 0.044444444444444446, 0.044444444444444446, 0.044444444444444446, 0.044444444444444446]\n",
      "node:  DFT\n",
      "state_names:  [1, 10, 12, 13, 20, 27, 32, 39, 59]\n",
      "parent:  ['DI', 'TQ']\n",
      "parent:  ['DI', 'TQ']\n",
      "alpha:  0.0308641975309 [0.030864197530864196, 0.030864197530864196, 0.030864197530864196, 0.030864197530864196, 0.030864197530864196, 0.030864197530864196, 0.030864197530864196, 0.030864197530864196, 0.030864197530864196]\n",
      "node:  TQ\n",
      "state_names:  [0, 1, 2, 3]\n",
      "parent:  []\n",
      "parent:  []\n",
      "alpha:  2.5 [2.5, 2.5, 2.5, 2.5]\n",
      "node:  RD\n",
      "state_names:  [0, 7, 12, 20, 22, 26, 37, 40, 41]\n",
      "parent:  ['DFT', 'DI']\n",
      "parent:  ['DFT', 'DI']\n",
      "alpha:  0.0137174211248 [0.013717421124828532, 0.013717421124828532, 0.013717421124828532, 0.013717421124828532, 0.013717421124828532, 0.013717421124828532, 0.013717421124828532, 0.013717421124828532, 0.013717421124828532]\n",
      "node:  DFO\n",
      "state_names:  [0, 1, 4, 6, 9, 10, 11, 15, 19]\n",
      "parent:  ['RD', 'OU']\n",
      "parent:  ['OU', 'RD']\n",
      "alpha:  0.0246913580247 [0.024691358024691357, 0.024691358024691357, 0.024691358024691357, 0.024691358024691357, 0.024691358024691357, 0.024691358024691357, 0.024691358024691357, 0.024691358024691357, 0.024691358024691357]\n",
      "node:  OU\n",
      "state_names:  [0, 1, 2, 3, 4]\n",
      "parent:  []\n",
      "parent:  []\n",
      "alpha:  2.0 [2.0, 2.0, 2.0, 2.0, 2.0]\n",
      "param:  [<TabularCPD representing P(C:5) at 0x1e532da0L>, <TabularCPD representing P(DPQ:5) at 0x1e532d30L>, <TabularCPD representing P(DI:9 | C:5, DPQ:5) at 0x1e532f98L>, <TabularCPD representing P(DFT:9 | DI:9, TQ:4) at 0x1e532f60L>, <TabularCPD representing P(TQ:4) at 0x1e5784e0L>, <TabularCPD representing P(RD:9 | DFT:9, DI:9) at 0x1e578080L>, <TabularCPD representing P(DFO:9 | OU:5, RD:9) at 0x1e578550L>, <TabularCPD representing P(OU:5) at 0x1e578978L>]\n"
     ]
    }
   ],
   "source": [
    "model.fit(data, estimator_type=BayesianEstimator, prior_type=\"BDeu\",\n",
    "                  equivalent_sample_size=10)  # default eq"
   ]
  },
  {
   "cell_type": "code",
   "execution_count": null,
   "metadata": {},
   "outputs": [],
   "source": [
    "print model.estimator_type"
   ]
  },
  {
   "cell_type": "code",
   "execution_count": null,
   "metadata": {},
   "outputs": [],
   "source": [
    "print model.get_cpds('C')\n",
    "print model.get_cpds('DPQ')\n",
    "print model.get_cpds('DI')"
   ]
  },
  {
   "cell_type": "code",
   "execution_count": null,
   "metadata": {
    "collapsed": true
   },
   "outputs": [],
   "source": [
    "infer = VariableElimination(model)"
   ]
  },
  {
   "cell_type": "code",
   "execution_count": null,
   "metadata": {},
   "outputs": [],
   "source": [
    "DI = infer.query(['DI'])['DI'].values\n",
    "print DI"
   ]
  },
  {
   "cell_type": "code",
   "execution_count": null,
   "metadata": {},
   "outputs": [],
   "source": [
    "plt.figure()"
   ]
  },
  {
   "cell_type": "code",
   "execution_count": null,
   "metadata": {},
   "outputs": [],
   "source": [
    "plt.subplot(4, 3, 4)\n",
    "plt.plot([1, 2, 3])\n",
    "plt.title(\"defects inserted 1\")\n",
    "# plt.xlabel('number')\n",
    "plt.ylabel('probability')"
   ]
  },
  {
   "cell_type": "code",
   "execution_count": null,
   "metadata": {},
   "outputs": [],
   "source": [
    "plt.subplots_adjust(hspace=0.5)\n",
    "plt.show()"
   ]
  },
  {
   "cell_type": "code",
   "execution_count": null,
   "metadata": {},
   "outputs": [],
   "source": []
  },
  {
   "cell_type": "code",
   "execution_count": null,
   "metadata": {
    "collapsed": true
   },
   "outputs": [],
   "source": []
  }
 ],
 "metadata": {
  "kernelspec": {
   "display_name": "Python 2",
   "language": "python",
   "name": "python2"
  },
  "language_info": {
   "codemirror_mode": {
    "name": "ipython",
    "version": 2
   },
   "file_extension": ".py",
   "mimetype": "text/x-python",
   "name": "python",
   "nbconvert_exporter": "python",
   "pygments_lexer": "ipython2",
   "version": "2.7.12"
  }
 },
 "nbformat": 4,
 "nbformat_minor": 2
}
